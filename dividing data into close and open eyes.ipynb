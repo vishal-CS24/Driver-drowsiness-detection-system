{
 "cells": [
  {
   "cell_type": "code",
   "execution_count": 1,
   "id": "0b6d32ba",
   "metadata": {},
   "outputs": [],
   "source": [
    "import os\n",
    "import shutil\n",
    "import glob\n",
    "from tqdm import tqdm"
   ]
  },
  {
   "cell_type": "markdown",
   "id": "e807afd5",
   "metadata": {},
   "source": [
    "### \n",
    "subject ID:\n",
    "xxx\n",
    "\n",
    "image number:\n",
    "xxx\n",
    "\n",
    "gender:\n",
    "0 - male\n",
    "1 - famale\n",
    "\n",
    "glasses:\n",
    "0 - no\n",
    "1 - yes\n",
    "\n",
    "eye state:\n",
    "0 - close\n",
    "1 - open\n",
    "\n",
    "reflections:\n",
    "0 - none\n",
    "1 - low\n",
    "2 - high\n",
    "\n",
    "lighting conditions/image quality:\n",
    "0 - bad\n",
    "1 - good\n",
    "\n",
    "sensor type:\n",
    "01 - RealSense SR300 640x480\n",
    "02 - IDS Imaging, 1280x1024\n",
    "03 - Aptina Imagin 752x480\n",
    "\n",
    "example:\n",
    "s001_00123_0_0_0_0_0_01.png\n"
   ]
  },
  {
   "cell_type": "code",
   "execution_count": 14,
   "id": "4cb5b767",
   "metadata": {},
   "outputs": [],
   "source": [
    "raw_data = r'C:\\Users\\Acer\\Desktop\\6th sem\\Major 1 project\\mrlEyes_2018_01'"
   ]
  },
  {
   "cell_type": "markdown",
   "id": "8ee09651",
   "metadata": {},
   "source": [
    "## split data into open and closed eyes"
   ]
  },
  {
   "cell_type": "code",
   "execution_count": 17,
   "id": "b979e6da",
   "metadata": {},
   "outputs": [
    {
     "name": "stderr",
     "output_type": "stream",
     "text": [
      "0it [00:00, ?it/s]\n",
      "100%|█████████████████████████████████████████████████████████████████████████████| 3242/3242 [00:04<00:00, 788.27it/s]\n",
      "100%|█████████████████████████████████████████████████████████████████████████████| 1114/1114 [00:01<00:00, 687.43it/s]\n",
      "100%|███████████████████████████████████████████████████████████████████████████████| 679/679 [00:00<00:00, 698.01it/s]\n",
      "100%|█████████████████████████████████████████████████████████████████████████████| 1069/1069 [00:01<00:00, 706.43it/s]\n",
      "100%|███████████████████████████████████████████████████████████████████████████████| 736/736 [00:01<00:00, 701.52it/s]\n",
      "100%|█████████████████████████████████████████████████████████████████████████████| 1012/1012 [00:01<00:00, 728.96it/s]\n",
      "100%|███████████████████████████████████████████████████████████████████████████████| 624/624 [00:00<00:00, 672.10it/s]\n",
      "100%|███████████████████████████████████████████████████████████████████████████████| 832/832 [00:01<00:00, 696.80it/s]\n",
      "100%|███████████████████████████████████████████████████████████████████████████████| 387/387 [00:00<00:00, 730.73it/s]\n",
      "100%|███████████████████████████████████████████████████████████████████████████████| 399/399 [00:00<00:00, 700.77it/s]\n",
      "100%|█████████████████████████████████████████████████████████████████████████████| 1648/1648 [00:02<00:00, 696.93it/s]\n",
      "100%|█████████████████████████████████████████████████████████████████████████████| 8728/8728 [00:12<00:00, 690.53it/s]\n",
      "100%|█████████████████████████████████████████████████████████████████████████████| 3605/3605 [00:05<00:00, 719.07it/s]\n",
      "100%|█████████████████████████████████████████████████████████████████████████████| 8884/8884 [00:13<00:00, 680.32it/s]\n",
      "100%|█████████████████████████████████████████████████████████████████████████████| 1132/1132 [00:01<00:00, 677.12it/s]\n",
      "100%|█████████████████████████████████████████████████████████████████████████████| 1889/1889 [00:02<00:00, 676.08it/s]\n",
      "100%|█████████████████████████████████████████████████████████████████████████████| 1648/1648 [00:02<00:00, 703.13it/s]\n",
      "100%|█████████████████████████████████████████████████████████████████████████████| 4410/4410 [00:06<00:00, 679.54it/s]\n",
      "100%|█████████████████████████████████████████████████████████████████████████████| 6175/6175 [00:09<00:00, 664.43it/s]\n",
      "100%|███████████████████████████████████████████████████████████████████████████████| 704/704 [00:01<00:00, 694.26it/s]\n",
      "100%|███████████████████████████████████████████████████████████████████████████████| 987/987 [00:01<00:00, 616.56it/s]\n",
      "100%|███████████████████████████████████████████████████████████████████████████████| 382/382 [00:00<00:00, 662.52it/s]\n",
      "100%|███████████████████████████████████████████████████████████████████████████████| 522/522 [00:00<00:00, 640.16it/s]\n",
      "100%|███████████████████████████████████████████████████████████████████████████████| 752/752 [00:01<00:00, 621.57it/s]\n",
      "100%|█████████████████████████████████████████████████████████████████████████████| 1502/1502 [00:02<00:00, 647.34it/s]\n",
      "100%|█████████████████████████████████████████████████████████████████████████████| 1246/1246 [00:01<00:00, 664.22it/s]\n",
      "100%|███████████████████████████████████████████████████████████████████████████████| 665/665 [00:01<00:00, 550.44it/s]\n",
      "100%|███████████████████████████████████████████████████████████████████████████████| 736/736 [00:01<00:00, 625.21it/s]\n",
      "100%|█████████████████████████████████████████████████████████████████████████████| 1393/1393 [00:02<00:00, 578.63it/s]\n",
      "100%|█████████████████████████████████████████████████████████████████████████████| 1384/1384 [00:02<00:00, 643.32it/s]\n",
      "100%|█████████████████████████████████████████████████████████████████████████████| 1738/1738 [00:02<00:00, 645.20it/s]\n",
      "100%|█████████████████████████████████████████████████████████████████████████████| 6162/6162 [00:09<00:00, 616.82it/s]\n",
      "100%|███████████████████████████████████████████████████████████████████████████████| 681/681 [00:01<00:00, 614.79it/s]\n",
      "100%|███████████████████████████████████████████████████████████████████████████████| 739/739 [00:01<00:00, 560.07it/s]\n",
      "100%|███████████████████████████████████████████████████████████████████████████████| 642/642 [00:00<00:00, 642.85it/s]\n",
      "100%|█████████████████████████████████████████████████████████████████████████████| 6193/6193 [00:10<00:00, 617.19it/s]\n",
      "100%|███████████████████████████████████████████████████████████████████████████| 10257/10257 [00:16<00:00, 634.94it/s]\n"
     ]
    }
   ],
   "source": [
    "for dirpath,dirname,filenames in os.walk(raw_data):\n",
    "    for i in tqdm([f for f in filenames if f.endswith('.png')]):\n",
    "        if i.split('_')[4]=='0':\n",
    "            shutil.copy(src=dirpath +'/'+ i,dst=r'C:\\Users\\Acer\\Desktop\\6th sem\\Major 1 project\\prepared_data\\closed_eyes')\n",
    "        elif i.split('_')[4]=='1':\n",
    "            shutil.copy(src=dirpath+'/'+i,dst=r'C:\\Users\\Acer\\Desktop\\6th sem\\Major 1 project\\prepared_data\\open_eyes')"
   ]
  },
  {
   "cell_type": "code",
   "execution_count": null,
   "id": "7c0f0f0f",
   "metadata": {},
   "outputs": [],
   "source": []
  },
  {
   "cell_type": "markdown",
   "id": "4291dcf0",
   "metadata": {},
   "source": [
    "# splitting data into training and testing(open and closed eyes)"
   ]
  },
  {
   "cell_type": "markdown",
   "id": "7436cd2c",
   "metadata": {},
   "source": [
    "## entering closeď eyes 90% data for training "
   ]
  },
  {
   "cell_type": "code",
   "execution_count": 60,
   "id": "f19b3d95",
   "metadata": {},
   "outputs": [
    {
     "name": "stdout",
     "output_type": "stream",
     "text": [
      "41946\n"
     ]
    },
    {
     "name": "stderr",
     "output_type": "stream",
     "text": [
      "100%|███████████████████████████████████████████████████████████████████████████| 37751/37751 [00:48<00:00, 786.10it/s]\n"
     ]
    }
   ],
   "source": [
    "data = r'C:\\Users\\Acer\\Desktop\\6th sem\\Major 1 project\\prepared_data\\closed_eyes'\n",
    "for dirpath,dirname,filenames in os.walk(data):\n",
    "    f=filenames\n",
    "print(len(f))\n",
    "for i in tqdm(range(int(len(f)*0.9))):\n",
    "    shutil.copy(src=dirpath +'/'+ f[i],dst=r'C:\\Users\\Acer\\Desktop\\6th sem\\Major 1 project\\prepared_data\\test\\closed_eyes')   "
   ]
  },
  {
   "cell_type": "markdown",
   "id": "e1543c53",
   "metadata": {},
   "source": [
    "## entering open eyes 90% data for training "
   ]
  },
  {
   "cell_type": "code",
   "execution_count": 64,
   "id": "4aaecb6f",
   "metadata": {},
   "outputs": [
    {
     "name": "stdout",
     "output_type": "stream",
     "text": [
      "42952\n",
      "38656\n"
     ]
    },
    {
     "name": "stderr",
     "output_type": "stream",
     "text": [
      "100%|███████████████████████████████████████████████████████████████████████████| 38656/38656 [00:46<00:00, 829.00it/s]\n"
     ]
    }
   ],
   "source": [
    "data = r'C:\\Users\\Acer\\Desktop\\6th sem\\Major 1 project\\prepared_data\\open_eyes'\n",
    "for dirpath,dirname,filenames in os.walk(data):\n",
    "    f=filenames\n",
    "print(len(f))\n",
    "print(int(len(f)*0.9))\n",
    "for i in tqdm(range(int(len(f)*0.9))):\n",
    "    shutil.copy(src=dirpath +'/'+ f[i],dst=r'C:\\Users\\Acer\\Desktop\\6th sem\\Major 1 project\\prepared_data\\train\\open_eyes')   "
   ]
  },
  {
   "cell_type": "markdown",
   "id": "084ec10d",
   "metadata": {},
   "source": [
    "## entering closeď eyes 10% data for testing "
   ]
  },
  {
   "cell_type": "code",
   "execution_count": 74,
   "id": "fc1191c0",
   "metadata": {},
   "outputs": [
    {
     "name": "stdout",
     "output_type": "stream",
     "text": [
      "41946\n",
      "37751\n"
     ]
    },
    {
     "name": "stderr",
     "output_type": "stream",
     "text": [
      "100%|█████████████████████████████████████████████████████████████████████████████| 4195/4195 [00:05<00:00, 735.50it/s]\n"
     ]
    }
   ],
   "source": [
    "data = r'C:\\Users\\Acer\\Desktop\\6th sem\\Major 1 project\\prepared_data\\closed_eyes'\n",
    "for dirpath,dirname,filenames in os.walk(data):\n",
    "    f=filenames\n",
    "print(len(f))\n",
    "s=int(len(f)*0.9)\n",
    "print(int(len(f)*0.9))\n",
    "for i in tqdm(range(s,len(f))):\n",
    "    shutil.copy(src=dirpath +'/'+ f[i],dst=r'C:\\Users\\Acer\\Desktop\\6th sem\\Major 1 project\\prepared_data\\test\\closed_eyes')   "
   ]
  },
  {
   "cell_type": "markdown",
   "id": "c65c421f",
   "metadata": {},
   "source": [
    "## entering open eyes 90% data for testing "
   ]
  },
  {
   "cell_type": "code",
   "execution_count": 75,
   "id": "8307ac35",
   "metadata": {},
   "outputs": [
    {
     "name": "stdout",
     "output_type": "stream",
     "text": [
      "42952\n",
      "38656\n"
     ]
    },
    {
     "name": "stderr",
     "output_type": "stream",
     "text": [
      "100%|█████████████████████████████████████████████████████████████████████████████| 4296/4296 [00:06<00:00, 706.66it/s]\n"
     ]
    }
   ],
   "source": [
    "data = r'C:\\Users\\Acer\\Desktop\\6th sem\\Major 1 project\\prepared_data\\open_eyes'\n",
    "for dirpath,dirname,filenames in os.walk(data):\n",
    "    f=filenames\n",
    "print(len(f))\n",
    "s=int(len(f)*0.9)\n",
    "print(int(len(f)*0.9))\n",
    "for i in tqdm(range(s,len(f))):\n",
    "    shutil.copy(src=dirpath +'/'+ f[i],dst=r'C:\\Users\\Acer\\Desktop\\6th sem\\Major 1 project\\prepared_data\\test\\open_eyes')   "
   ]
  }
 ],
 "metadata": {
  "kernelspec": {
   "display_name": "Python 3 (ipykernel)",
   "language": "python",
   "name": "python3"
  },
  "language_info": {
   "codemirror_mode": {
    "name": "ipython",
    "version": 3
   },
   "file_extension": ".py",
   "mimetype": "text/x-python",
   "name": "python",
   "nbconvert_exporter": "python",
   "pygments_lexer": "ipython3",
   "version": "3.9.12"
  }
 },
 "nbformat": 4,
 "nbformat_minor": 5
}
